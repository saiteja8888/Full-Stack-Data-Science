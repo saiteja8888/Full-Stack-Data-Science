{
 "cells": [
  {
   "cell_type": "code",
   "execution_count": 1,
   "metadata": {},
   "outputs": [
    {
     "name": "stdout",
     "output_type": "stream",
     "text": [
      "Hello Python\n"
     ]
    }
   ],
   "source": [
    "#1.Write a Python program to print \"Hello Python\"?\n",
    "print(\"Hello Python\")"
   ]
  },
  {
   "cell_type": "code",
   "execution_count": 2,
   "metadata": {},
   "outputs": [
    {
     "name": "stdout",
     "output_type": "stream",
     "text": [
      "Enter val1\n",
      "10\n",
      "Enter val2\n",
      "5\n",
      "addition of val1 and val2 is 15\n",
      "subtraction of val1 and val2 is 5\n",
      "multiplication of val1 and val2 is 50\n",
      "division of val1 and val2 is 2.0\n"
     ]
    }
   ],
   "source": [
    "#2.Write a Python program to do arithmetical operations addition and division.?\n",
    "val1=int(input(\"Enter val1\\n\"))\n",
    "val2=int(input(\"Enter val2\\n\"))\n",
    "print(\"addition of val1 and val2 is\",val1+val2)\n",
    "print(\"subtraction of val1 and val2 is\",val1-val2)\n",
    "print(\"multiplication of val1 and val2 is\",val1*val2)\n",
    "print(\"division of val1 and val2 is\",val1/val2)"
   ]
  },
  {
   "cell_type": "code",
   "execution_count": 3,
   "metadata": {},
   "outputs": [
    {
     "name": "stdout",
     "output_type": "stream",
     "text": [
      "Enter height\n",
      "10\n",
      "Enter base\n",
      "4\n",
      "Area of triangle with height 10 and base 4 is 20.0\n"
     ]
    }
   ],
   "source": [
    "#3.Write a Python program to find the area of a triangle?\n",
    "height=int(input(\"Enter height\\n\"))\n",
    "base=int(input(\"Enter base\\n\"))\n",
    "area=0.5*base*height\n",
    "print(f\"Area of triangle with height {height} and base {base} is {area}\")"
   ]
  },
  {
   "cell_type": "code",
   "execution_count": 4,
   "metadata": {},
   "outputs": [
    {
     "name": "stdout",
     "output_type": "stream",
     "text": [
      "Enter first number\n",
      "10\n",
      "Enter second number\n",
      "15\n",
      "values of a and b Before swap\n",
      "a=10\n",
      "b=15\n",
      "values of a and b after swap\n",
      "a=15\n",
      "b=10\n"
     ]
    }
   ],
   "source": [
    "#4.Write a Python program to swap two variables?\n",
    "a=int(input(\"Enter first number\\n\"))\n",
    "b=int(input(\"Enter second number\\n\"))\n",
    "print(\"values of a and b Before swap\")\n",
    "print(f\"a={a}\\nb={b}\")\n",
    "a=a+b\n",
    "b=a-b\n",
    "a=a-b\n",
    "print(\"values of a and b after swap\")\n",
    "print(f\"a={a}\\nb={b}\")"
   ]
  },
  {
   "cell_type": "code",
   "execution_count": 5,
   "metadata": {},
   "outputs": [
    {
     "name": "stdout",
     "output_type": "stream",
     "text": [
      "25\n"
     ]
    }
   ],
   "source": [
    "#5.Write a Python program to generate a random number?\n",
    "import random\n",
    "a=random.randint(1,100) #generates a random integer\n",
    "print(a)"
   ]
  },
  {
   "cell_type": "code",
   "execution_count": null,
   "metadata": {},
   "outputs": [],
   "source": []
  }
 ],
 "metadata": {
  "kernelspec": {
   "display_name": "Python 3",
   "language": "python",
   "name": "python3"
  },
  "language_info": {
   "codemirror_mode": {
    "name": "ipython",
    "version": 3
   },
   "file_extension": ".py",
   "mimetype": "text/x-python",
   "name": "python",
   "nbconvert_exporter": "python",
   "pygments_lexer": "ipython3",
   "version": "3.7.3"
  }
 },
 "nbformat": 4,
 "nbformat_minor": 2
}
