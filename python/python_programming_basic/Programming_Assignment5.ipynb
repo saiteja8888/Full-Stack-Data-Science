{
 "cells": [
  {
   "cell_type": "code",
   "execution_count": 1,
   "metadata": {},
   "outputs": [
    {
     "name": "stdout",
     "output_type": "stream",
     "text": [
      "LCM of 10,12 is 60\n"
     ]
    }
   ],
   "source": [
    "#1.Write a Python Program to Find LCM?\n",
    "def LCM(a,b):\n",
    "    i=2\n",
    "    lcm=1\n",
    "    while(a>1 or b>1):\n",
    "        if a%i==0 and b%i==0:\n",
    "            lcm=lcm*i\n",
    "            a/=i\n",
    "            b/=i\n",
    "        elif(a%i!=0 and b%i==0):\n",
    "            lcm=lcm*i\n",
    "            b/=i\n",
    "        elif a%i==0 and b!=0:\n",
    "            lcm=lcm*i\n",
    "            a/=i\n",
    "        else:\n",
    "            i+=1\n",
    "    return lcm\n",
    "\n",
    "print(\"LCM of 10,12 is\",LCM(10,12))"
   ]
  },
  {
   "cell_type": "code",
   "execution_count": 2,
   "metadata": {},
   "outputs": [
    {
     "name": "stdout",
     "output_type": "stream",
     "text": [
      "HCF of 10,12 is 2\n"
     ]
    }
   ],
   "source": [
    "#2.Write a Python Program to Find HCF?\n",
    "def HCF(a,b):\n",
    "    if a<b:\n",
    "        smaller=a\n",
    "    else:\n",
    "        smaller=b\n",
    "    for i in range(1,smaller+1):\n",
    "        if a%i==0 and b%i==0:\n",
    "            hcf=i\n",
    "        \n",
    "    return hcf\n",
    "\n",
    "print(\"HCF of 10,12 is\",HCF(10,12))"
   ]
  },
  {
   "cell_type": "code",
   "execution_count": 3,
   "metadata": {},
   "outputs": [
    {
     "name": "stdout",
     "output_type": "stream",
     "text": [
      "Enter decimal number\n",
      "66\n",
      "binary equivalent for given input 0b1000010\n",
      "octal equivalent for given input 0o102\n",
      "hexadecimal equivalent for given input 0x42\n"
     ]
    }
   ],
   "source": [
    "#3.Write a Python Program to Convert Decimal to Binary, Octal and Hexadecimal?\n",
    "num=int(input(\"Enter decimal number\\n\"))\n",
    "print(\"binary equivalent for given input\",bin(num))\n",
    "print(\"octal equivalent for given input\",oct(num))\n",
    "print(\"hexadecimal equivalent for given input\",hex(num))"
   ]
  },
  {
   "cell_type": "code",
   "execution_count": 4,
   "metadata": {},
   "outputs": [
    {
     "name": "stdout",
     "output_type": "stream",
     "text": [
      "1\n",
      "49\n"
     ]
    }
   ],
   "source": [
    "#4.Write a Python Program To Find ASCII value of a character?\n",
    "char=input()\n",
    "print(ord(char))"
   ]
  },
  {
   "cell_type": "code",
   "execution_count": 5,
   "metadata": {},
   "outputs": [
    {
     "name": "stdout",
     "output_type": "stream",
     "text": [
      "first value5\n",
      "second value10\n",
      "Enter your choice\n",
      "add,sub,mul,div\n",
      "add\n"
     ]
    },
    {
     "data": {
      "text/plain": [
       "15"
      ]
     },
     "execution_count": 5,
     "metadata": {},
     "output_type": "execute_result"
    }
   ],
   "source": [
    "#5.Write a Python Program to Make a Simple Calculator with 4 basic mathematical operations?\n",
    "def calculate(a,b,op):\n",
    "    if op=='add':\n",
    "        return a+b\n",
    "    elif op=='sub':\n",
    "        return a-b\n",
    "    elif op==\"mul\":\n",
    "        return a*b\n",
    "    elif op=='div':\n",
    "        return a/b\n",
    "a=int(input(\"first value\"))\n",
    "b=int(input(\"second value\"))\n",
    "op=input(\"Enter your choice\\nadd,sub,mul,div\\n\")\n",
    "calculate(a,b,op)"
   ]
  },
  {
   "cell_type": "code",
   "execution_count": null,
   "metadata": {},
   "outputs": [],
   "source": []
  }
 ],
 "metadata": {
  "kernelspec": {
   "display_name": "Python 3",
   "language": "python",
   "name": "python3"
  },
  "language_info": {
   "codemirror_mode": {
    "name": "ipython",
    "version": 3
   },
   "file_extension": ".py",
   "mimetype": "text/x-python",
   "name": "python",
   "nbconvert_exporter": "python",
   "pygments_lexer": "ipython3",
   "version": "3.7.3"
  }
 },
 "nbformat": 4,
 "nbformat_minor": 2
}
