{
 "cells": [
  {
   "cell_type": "code",
   "execution_count": 1,
   "metadata": {},
   "outputs": [
    {
     "name": "stdout",
     "output_type": "stream",
     "text": [
      "Enter array\n",
      "1 2 3 4 5 6\n"
     ]
    },
    {
     "data": {
      "text/plain": [
       "21"
      ]
     },
     "execution_count": 1,
     "metadata": {},
     "output_type": "execute_result"
    }
   ],
   "source": [
    "#1.Write a Python Program to find sum of array?\n",
    "from functools import reduce\n",
    "def array_sum(arr):\n",
    "    arr=[int(x) for x in list(arr.split())]\n",
    "    return reduce(lambda a,b:a+b,arr)\n",
    "array_sum(input(\"Enter array\\n\"))"
   ]
  },
  {
   "cell_type": "code",
   "execution_count": 2,
   "metadata": {},
   "outputs": [
    {
     "name": "stdout",
     "output_type": "stream",
     "text": [
      "2 7 4 22 42 19\n",
      "42\n"
     ]
    }
   ],
   "source": [
    "#2.Write a Python Program to find largest element in an array?\n",
    "lst=[int(x) for x in list(input().split())]\n",
    "print(max(lst))"
   ]
  },
  {
   "cell_type": "code",
   "execution_count": 3,
   "metadata": {},
   "outputs": [
    {
     "name": "stdout",
     "output_type": "stream",
     "text": [
      "1 2 3 4 5 6\n",
      "original sequence [1, 2, 3, 4, 5, 6]\n",
      "reverse sequence [6, 5, 4, 3, 2, 1]\n"
     ]
    }
   ],
   "source": [
    "#3.Write a Python Program for array rotation?\n",
    "lst=[int(x) for x in list(input().split())]\n",
    "print(\"original sequence\",lst)\n",
    "print(\"reverse sequence\",lst[::-1])"
   ]
  },
  {
   "cell_type": "code",
   "execution_count": 4,
   "metadata": {},
   "outputs": [
    {
     "name": "stdout",
     "output_type": "stream",
     "text": [
      "1 2 3 4 5\n",
      "List before adding [1, 2, 3, 4, 5]\n",
      "List after adding [1, 2, 3, 4, 6]\n"
     ]
    }
   ],
   "source": [
    "#4.Write a Python Program to Split the array and add the first part to the end?\n",
    "lst=[int(x) for x in list(input().split())]\n",
    "print(\"List before adding\",lst)\n",
    "l=len(lst)\n",
    "lst[l-1]=lst[0]+lst[l-1]\n",
    "print(\"List after adding\",lst)"
   ]
  },
  {
   "cell_type": "code",
   "execution_count": 5,
   "metadata": {},
   "outputs": [
    {
     "name": "stdout",
     "output_type": "stream",
     "text": [
      "1 2 3 4 5\n",
      "True\n"
     ]
    }
   ],
   "source": [
    "#5.Write a Python Program to check if given array is Monotonic?\n",
    "#An array is monotonic if and only if it is monotone increasing, or monotone decreasing.\n",
    "def Monotonic_check(A):\n",
    "    return (all(A[i] <= A[i + 1] for i in range(len(A) - 1)) or all(A[i] >= A[i + 1] for i in range(len(A) - 1)))\n",
    "\n",
    "lst=[int(x) for x in list(input().split())]\n",
    "print(Monotonic_check(lst))"
   ]
  },
  {
   "cell_type": "code",
   "execution_count": null,
   "metadata": {},
   "outputs": [],
   "source": []
  }
 ],
 "metadata": {
  "kernelspec": {
   "display_name": "Python 3",
   "language": "python",
   "name": "python3"
  },
  "language_info": {
   "codemirror_mode": {
    "name": "ipython",
    "version": 3
   },
   "file_extension": ".py",
   "mimetype": "text/x-python",
   "name": "python",
   "nbconvert_exporter": "python",
   "pygments_lexer": "ipython3",
   "version": "3.7.3"
  }
 },
 "nbformat": 4,
 "nbformat_minor": 2
}
