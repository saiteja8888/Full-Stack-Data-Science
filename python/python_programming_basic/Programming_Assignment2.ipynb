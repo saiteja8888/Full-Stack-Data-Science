{
 "cells": [
  {
   "cell_type": "code",
   "execution_count": 1,
   "metadata": {},
   "outputs": [
    {
     "name": "stdout",
     "output_type": "stream",
     "text": [
      "Enter distance in kilometers\n",
      "10\n",
      "Distance after converting to miles is 6.21\n"
     ]
    }
   ],
   "source": [
    "#1.Write a Python program to convert kilometers to miles?\n",
    "def km_miles(dis_km):\n",
    "    mile_conversion=0.621\n",
    "    return dis_km*mile_conversion\n",
    "\n",
    "distance_km=int(input(\"Enter distance in kilometers\\n\"))\n",
    "print(f\"Distance after converting to miles is {km_miles(distance_km)}\")"
   ]
  },
  {
   "cell_type": "code",
   "execution_count": 2,
   "metadata": {},
   "outputs": [
    {
     "name": "stdout",
     "output_type": "stream",
     "text": [
      "20\n",
      "Fahrenheit value for given celsius is 68.0\n"
     ]
    }
   ],
   "source": [
    "#2.Write a Python program to convert Celsius to Fahrenheit?\n",
    "def cel_fahren(celsius):\n",
    "    fahrenheit=(celsius*(9/5))+32\n",
    "    return fahrenheit\n",
    "\n",
    "celsius=int(input())\n",
    "print(\"Fahrenheit value for given celsius is\",cel_fahren(celsius))"
   ]
  },
  {
   "cell_type": "code",
   "execution_count": 3,
   "metadata": {},
   "outputs": [
    {
     "name": "stdout",
     "output_type": "stream",
     "text": [
      "Enter year2020\n",
      "Enter month3\n",
      "     March 2020\n",
      "Mo Tu We Th Fr Sa Su\n",
      "                   1\n",
      " 2  3  4  5  6  7  8\n",
      " 9 10 11 12 13 14 15\n",
      "16 17 18 19 20 21 22\n",
      "23 24 25 26 27 28 29\n",
      "30 31\n",
      "\n"
     ]
    }
   ],
   "source": [
    "#3.Write a Python program to display calendar?\n",
    "import calendar\n",
    "year=int(input(\"Enter year\"))\n",
    "month=int(input(\"Enter month\"))\n",
    "print(calendar.month(year,month)) #Displays the calender"
   ]
  },
  {
   "cell_type": "code",
   "execution_count": 4,
   "metadata": {},
   "outputs": [
    {
     "name": "stdout",
     "output_type": "stream",
     "text": [
      "input format should be likeax2+bx+c\n",
      "1x2+5x+6\n",
      "solutions are [-2.0, -3.0]\n"
     ]
    }
   ],
   "source": [
    "#4.Write a Python program to solve quadratic equation?\n",
    "def quadratic(q):\n",
    "    a=int(q[0])\n",
    "    b=int(q[4])\n",
    "    c=int(q[7])\n",
    "    d=(b**2)-(4*a*c) #calculates discriminant\n",
    "    sol1=(-b+d**0.5)/(2*a)\n",
    "    sol2=(-b-d**0.5)/(2*a)\n",
    "    return [sol1,sol2]\n",
    "    \n",
    "\n",
    "q=input(\"input format should be likeax2+bx+c\\n\")\n",
    "print(\"solutions are\",quadratic(q))"
   ]
  },
  {
   "cell_type": "code",
   "execution_count": 5,
   "metadata": {},
   "outputs": [
    {
     "name": "stdout",
     "output_type": "stream",
     "text": [
      "10\n",
      "20\n",
      "values before swap\n",
      "a=10\n",
      "b=20\n",
      "values after swap\n",
      "a=20\n",
      "b=10\n"
     ]
    }
   ],
   "source": [
    "#5.Write a Python program to swap two variables without temp variable?\n",
    "def swap(a,b):\n",
    "    a=a+b\n",
    "    b=a-b\n",
    "    a=a-b\n",
    "    return a,b\n",
    "\n",
    "a,b=int(input()),int(input())\n",
    "print(f\"values before swap\\na={a}\\nb={b}\")\n",
    "a,b=swap(a,b)\n",
    "print(f\"values after swap\\na={a}\\nb={b}\")"
   ]
  },
  {
   "cell_type": "code",
   "execution_count": null,
   "metadata": {},
   "outputs": [],
   "source": []
  }
 ],
 "metadata": {
  "kernelspec": {
   "display_name": "Python 3",
   "language": "python",
   "name": "python3"
  },
  "language_info": {
   "codemirror_mode": {
    "name": "ipython",
    "version": 3
   },
   "file_extension": ".py",
   "mimetype": "text/x-python",
   "name": "python",
   "nbconvert_exporter": "python",
   "pygments_lexer": "ipython3",
   "version": "3.7.3"
  }
 },
 "nbformat": 4,
 "nbformat_minor": 2
}
