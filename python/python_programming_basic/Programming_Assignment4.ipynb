{
 "cells": [
  {
   "cell_type": "code",
   "execution_count": 1,
   "metadata": {},
   "outputs": [
    {
     "name": "stdout",
     "output_type": "stream",
     "text": [
      "Enter a number to find factorial\n",
      "5\n",
      "Factorial of given number is 120\n"
     ]
    }
   ],
   "source": [
    "#1.Write a Python Program to Find the Factorial of a Number?\n",
    "def factorial(value):\n",
    "    fact=1\n",
    "    for i in range(1,val+1):\n",
    "        fact=i*fact\n",
    "    return fact\n",
    "    \n",
    "val=int(input(\"Enter a number to find factorial\\n\"))\n",
    "\n",
    "print(\"Factorial of given number is\",factorial(val))"
   ]
  },
  {
   "cell_type": "code",
   "execution_count": 2,
   "metadata": {},
   "outputs": [
    {
     "name": "stdout",
     "output_type": "stream",
     "text": [
      "Enter table number\n",
      "10\n",
      "10X1=10\n",
      "10X2=20\n",
      "10X3=30\n",
      "10X4=40\n",
      "10X5=50\n",
      "10X6=60\n",
      "10X7=70\n",
      "10X8=80\n",
      "10X9=90\n",
      "10X10=100\n"
     ]
    }
   ],
   "source": [
    "#2.Write a Python Program to Display the multiplication Table?\n",
    "def print_table(table_no):\n",
    "    for i in range(1,11):\n",
    "        print(f\"{table_no}X{i}={table_no*i}\")\n",
    "    \n",
    "table_no=int(input(\"Enter table number\\n\"))\n",
    "print_table(table_no)"
   ]
  },
  {
   "cell_type": "code",
   "execution_count": 3,
   "metadata": {},
   "outputs": [
    {
     "name": "stdout",
     "output_type": "stream",
     "text": [
      "Enter length of sequence\n",
      "5\n",
      "fibonacci sequence of length 5 is\n",
      " 0 1 1 2 3 "
     ]
    }
   ],
   "source": [
    "#3.Write a Python Program to Print the Fibonacci sequence?\n",
    "def fib(n):\n",
    "    n1,n2,count=0,1,2\n",
    "    if n<=0:\n",
    "        print(\"Enter a positive number\")\n",
    "    elif n==1:\n",
    "        print(f\"fibonacci sequence of length {n} is\\n\",n1)\n",
    "    else:\n",
    "        print(f\"fibonacci sequence of length {n} is\\n {n1} {n2} \",end='')\n",
    "        while count<n:\n",
    "            n3=n1+n2\n",
    "            print(n3,end=' ')\n",
    "            n1=n2\n",
    "            n2=n3\n",
    "            count+=1\n",
    "n=int(input(\"Enter length of sequence\\n\"))\n",
    "fib(n)"
   ]
  },
  {
   "cell_type": "code",
   "execution_count": 4,
   "metadata": {},
   "outputs": [
    {
     "name": "stdout",
     "output_type": "stream",
     "text": [
      "Enter a number\n",
      "153\n"
     ]
    },
    {
     "data": {
      "text/plain": [
       "True"
      ]
     },
     "execution_count": 4,
     "metadata": {},
     "output_type": "execute_result"
    }
   ],
   "source": [
    "#4.Write a Python Program to Check Armstrong Number?\n",
    "def armstrong(n,l):\n",
    "    n1=n\n",
    "    sum=0\n",
    "    while n1>0:\n",
    "        r=n1%10\n",
    "        sum=sum+(r**l)\n",
    "        n1=n1//10\n",
    "    if n==sum:\n",
    "        return True\n",
    "    else: \n",
    "        return False\n",
    "     \n",
    "        \n",
    "n=input(\"Enter a number\\n\")\n",
    "l=len(n)\n",
    "n=int(n)\n",
    "armstrong(n,l)"
   ]
  },
  {
   "cell_type": "code",
   "execution_count": 5,
   "metadata": {},
   "outputs": [
    {
     "name": "stdout",
     "output_type": "stream",
     "text": [
      "Enter lower\n",
      "1\n",
      "Enter upper\n",
      "10000\n",
      "[1, 2, 3, 4, 5, 6, 7, 8, 9, 153, 370, 371, 407, 1634, 8208, 9474]\n"
     ]
    }
   ],
   "source": [
    "#5.Write a Python Program to Find Armstrong Number in an Interval?\n",
    "def armstrong_range(lower,upper):\n",
    "    lst=[]\n",
    "    for i in range(lower,upper+1):\n",
    "        n=armstrong(i,len(str(i)))\n",
    "        if n==True:\n",
    "            lst.append(i)\n",
    "    print(lst)\n",
    "\n",
    "lower=int(input(\"Enter lower\\n\"))\n",
    "upper=int(input(\"Enter upper\\n\"))\n",
    "armstrong_range(lower,upper)"
   ]
  },
  {
   "cell_type": "code",
   "execution_count": 6,
   "metadata": {},
   "outputs": [
    {
     "name": "stdout",
     "output_type": "stream",
     "text": [
      "Enter n\n",
      "10\n",
      "sum of first 10 natual numbers are 55\n"
     ]
    }
   ],
   "source": [
    "#6.Write a Python Program to Find the Sum of Natural Numbers?\n",
    "def natural_number_sum(n):\n",
    "    sum=0\n",
    "    for i in range(1,n+1):\n",
    "        sum=sum+i\n",
    "    return sum\n",
    "\n",
    "n=int(input(\"Enter n\\n\"))\n",
    "print(\"sum of first\",n,\"natual numbers are\",natural_number_sum(n))"
   ]
  },
  {
   "cell_type": "code",
   "execution_count": null,
   "metadata": {},
   "outputs": [],
   "source": []
  }
 ],
 "metadata": {
  "kernelspec": {
   "display_name": "Python 3",
   "language": "python",
   "name": "python3"
  },
  "language_info": {
   "codemirror_mode": {
    "name": "ipython",
    "version": 3
   },
   "file_extension": ".py",
   "mimetype": "text/x-python",
   "name": "python",
   "nbconvert_exporter": "python",
   "pygments_lexer": "ipython3",
   "version": "3.7.3"
  }
 },
 "nbformat": 4,
 "nbformat_minor": 2
}
